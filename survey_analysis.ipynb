{
 "cells": [
  {
   "cell_type": "markdown",
   "id": "c937bb20",
   "metadata": {},
   "source": [
    "## Data cleaning"
   ]
  },
  {
   "cell_type": "code",
   "execution_count": 21,
   "id": "e955769e",
   "metadata": {
    "tags": []
   },
   "outputs": [],
   "source": [
    "import warnings\n",
    "warnings.filterwarnings('ignore', category=FutureWarning)\n",
    "\n",
    "import pandas as pd\n",
    "import numpy as np\n",
    "from scipy.stats import chi2_contingency\n",
    "import statsmodels.api as sm\n",
    "from statsmodels.formula.api import ols\n",
    "from scipy import stats\n",
    "from tabulate import tabulate\n",
    "import matplotlib.pyplot as plt\n",
    "plt.style.use('ggplot')\n",
    "import seaborn as sns\n",
    "from scipy.stats import ks_2samp"
   ]
  },
  {
   "cell_type": "code",
   "execution_count": 22,
   "id": "6b886bbf",
   "metadata": {},
   "outputs": [],
   "source": [
    "df = pd.read_csv('dati_survey.csv')\n",
    "df = df[~(df['DistributionChannel']=='preview')].reset_index(drop=True)"
   ]
  },
  {
   "cell_type": "code",
   "execution_count": 3,
   "id": "9aae618f",
   "metadata": {},
   "outputs": [],
   "source": [
    "df = df.drop([\n",
    "    'StartDate', 'EndDate', 'IPAddress', 'Duration (in seconds)', 'RecordedDate', 'ResponseId', \n",
    "    'RecipientLastName', 'RecipientFirstName', 'Progress', 'Status','RecipientEmail', 'ExternalReference', \n",
    "    'LocationLatitude', 'LocationLongitude', 'Q_DataPolicyViolations', 'Q_StraightliningCount', \n",
    "    'Q_StraightliningPercentage','Q_StraightliningQuestions', 'Finished', 'DistributionChannel', 'UserLanguage'\n",
    "             ], axis = 1) #drop useless cols\n",
    "\n",
    "df = df.drop([0,1]).reset_index(drop=True) #drop questions\n",
    "\n",
    "df.columns = [\n",
    "    'age', 'gender', 'occupation', 'license','live_milan', 'days_car', \n",
    "    'likert_car_when_rain', 'likert_covered_parking', 'likert_covered_parking_rain', 'price_proximity', \n",
    "    'subscribed', 'Q29', 'subscription_no_treat', 'subscriprion_treat', \n",
    "    'rainy_weekday', 'rainy_weekend', 'dry_weekday', 'dry_weekend']"
   ]
  },
  {
   "cell_type": "code",
   "execution_count": 4,
   "id": "fc940b3b",
   "metadata": {},
   "outputs": [],
   "source": [
    "df = df.drop(list(df[df['age']=='<18'].index))\n",
    "df = df[df['license']=='Yes'] #focus only on those with a license\n",
    "df = df[df['live_milan']=='Yes'] #focus only on those living in milan/often in milan\n",
    "df = df.drop(['live_milan', 'license'], axis = 1)"
   ]
  },
  {
   "cell_type": "markdown",
   "id": "fb374737",
   "metadata": {},
   "source": [
    "Just one null value for age, that row has other columns in line with the average and it does not seem to be a significant outlier. It can be dropped"
   ]
  },
  {
   "cell_type": "code",
   "execution_count": 5,
   "id": "3823ac3f",
   "metadata": {},
   "outputs": [
    {
     "name": "stdout",
     "output_type": "stream",
     "text": [
      "<class 'pandas.core.frame.DataFrame'>\n",
      "Index: 183 entries, 0 to 284\n",
      "Data columns (total 16 columns):\n",
      " #   Column                       Non-Null Count  Dtype \n",
      "---  ------                       --------------  ----- \n",
      " 0   age                          182 non-null    object\n",
      " 1   gender                       183 non-null    object\n",
      " 2   occupation                   183 non-null    object\n",
      " 3   days_car                     183 non-null    object\n",
      " 4   likert_car_when_rain         183 non-null    object\n",
      " 5   likert_covered_parking       183 non-null    object\n",
      " 6   likert_covered_parking_rain  183 non-null    object\n",
      " 7   price_proximity              183 non-null    object\n",
      " 8   subscribed                   93 non-null     object\n",
      " 9   Q29                          7 non-null      object\n",
      " 10  subscription_no_treat        43 non-null     object\n",
      " 11  subscriprion_treat           43 non-null     object\n",
      " 12  rainy_weekday                19 non-null     object\n",
      " 13  rainy_weekend                23 non-null     object\n",
      " 14  dry_weekday                  21 non-null     object\n",
      " 15  dry_weekend                  22 non-null     object\n",
      "dtypes: object(16)\n",
      "memory usage: 24.3+ KB\n"
     ]
    }
   ],
   "source": [
    "df.info()"
   ]
  },
  {
   "cell_type": "code",
   "execution_count": 6,
   "id": "8913a0a8",
   "metadata": {},
   "outputs": [
    {
     "data": {
      "text/html": [
       "<div>\n",
       "<style scoped>\n",
       "    .dataframe tbody tr th:only-of-type {\n",
       "        vertical-align: middle;\n",
       "    }\n",
       "\n",
       "    .dataframe tbody tr th {\n",
       "        vertical-align: top;\n",
       "    }\n",
       "\n",
       "    .dataframe thead th {\n",
       "        text-align: right;\n",
       "    }\n",
       "</style>\n",
       "<table border=\"1\" class=\"dataframe\">\n",
       "  <thead>\n",
       "    <tr style=\"text-align: right;\">\n",
       "      <th></th>\n",
       "      <th>age</th>\n",
       "      <th>gender</th>\n",
       "      <th>occupation</th>\n",
       "      <th>days_car</th>\n",
       "      <th>likert_car_when_rain</th>\n",
       "      <th>likert_covered_parking</th>\n",
       "      <th>likert_covered_parking_rain</th>\n",
       "      <th>price_proximity</th>\n",
       "      <th>subscribed</th>\n",
       "      <th>Q29</th>\n",
       "      <th>subscription_no_treat</th>\n",
       "      <th>subscriprion_treat</th>\n",
       "      <th>rainy_weekday</th>\n",
       "      <th>rainy_weekend</th>\n",
       "      <th>dry_weekday</th>\n",
       "      <th>dry_weekend</th>\n",
       "    </tr>\n",
       "  </thead>\n",
       "  <tbody>\n",
       "    <tr>\n",
       "      <th>256</th>\n",
       "      <td>NaN</td>\n",
       "      <td>Female</td>\n",
       "      <td>Working</td>\n",
       "      <td>Mondays to Thursdays</td>\n",
       "      <td>3</td>\n",
       "      <td>3</td>\n",
       "      <td>4</td>\n",
       "      <td>4</td>\n",
       "      <td>NaN</td>\n",
       "      <td>NaN</td>\n",
       "      <td>NaN</td>\n",
       "      <td>NaN</td>\n",
       "      <td>NaN</td>\n",
       "      <td>NaN</td>\n",
       "      <td>2.01</td>\n",
       "      <td>NaN</td>\n",
       "    </tr>\n",
       "  </tbody>\n",
       "</table>\n",
       "</div>"
      ],
      "text/plain": [
       "     age  gender occupation              days_car likert_car_when_rain  \\\n",
       "256  NaN  Female    Working  Mondays to Thursdays                    3   \n",
       "\n",
       "    likert_covered_parking likert_covered_parking_rain price_proximity  \\\n",
       "256                      3                           4               4   \n",
       "\n",
       "    subscribed  Q29 subscription_no_treat subscriprion_treat rainy_weekday  \\\n",
       "256        NaN  NaN                   NaN                NaN           NaN   \n",
       "\n",
       "    rainy_weekend dry_weekday dry_weekend  \n",
       "256           NaN        2.01         NaN  "
      ]
     },
     "execution_count": 6,
     "metadata": {},
     "output_type": "execute_result"
    }
   ],
   "source": [
    "df[df['age'].isna()]"
   ]
  },
  {
   "cell_type": "code",
   "execution_count": 7,
   "id": "6b3a89b2",
   "metadata": {},
   "outputs": [],
   "source": [
    "df = df.dropna(subset = ['age']) #just one with missing age, answers align with the average\n",
    "df['gender'] = df['gender'].apply(lambda x: 'Non-binary' if x=='Non-binary / third gender' else x)\n",
    "df['gender_bin'] = df['gender'].apply(lambda x: 1 if x == 'Male' else 0)\n",
    "df['age'] = df['age'].apply(lambda x: '>55' if x == 'more than 55' else x)\n",
    "df['occupation'] = df['occupation'].apply(lambda x: 'other' if (x in ('Retired', 'Unemployed', 'Working student')) else x)\n",
    "names = ['student_dummy', 'working_dummy']\n",
    "df[names] = pd.get_dummies(df['occupation']).drop('other', axis =1).astype(int)\n",
    "names = ['24-35_dummy', '36-55_dummy', '>55_dummy']\n",
    "df[names] = pd.get_dummies(df['age'], drop_first=True).astype(int)"
   ]
  },
  {
   "cell_type": "code",
   "execution_count": 8,
   "id": "d6982e02",
   "metadata": {},
   "outputs": [],
   "source": [
    "#Creating the first df\n",
    "sub = df[~df['subscribed'].isna()].copy()\n",
    "cols = ['subscriprion_treat', 'subscription_no_treat']\n",
    "sub['treatment'] = sub[cols].apply(lambda row: row.first_valid_index(), axis=1)"
   ]
  },
  {
   "cell_type": "code",
   "execution_count": 9,
   "id": "a626b979",
   "metadata": {},
   "outputs": [],
   "source": [
    "#df for those already subscribed\n",
    "subscribed = sub[sub['treatment'].isna()]\n",
    "subscribed.to_csv('survey_subscribed.csv', index=False)"
   ]
  },
  {
   "cell_type": "code",
   "execution_count": 10,
   "id": "f3ac7eb9",
   "metadata": {},
   "outputs": [],
   "source": [
    "sub = sub.dropna(subset=['treatment'])"
   ]
  },
  {
   "cell_type": "markdown",
   "id": "d5abdfbc",
   "metadata": {},
   "source": [
    "Encoding the value of the treatment and creating the outcome"
   ]
  },
  {
   "cell_type": "code",
   "execution_count": 11,
   "id": "1d266d13",
   "metadata": {},
   "outputs": [],
   "source": [
    "sub['treatment'] = sub['treatment'].apply(lambda x: 1 if x=='subscriprion_treat' else 0)\n",
    "sub['outcome'] = sub['subscriprion_treat'].fillna('') + ' ' + sub['subscription_no_treat'].fillna('')\n",
    "sub['outcome'] = sub['outcome'].str.strip()\n",
    "sub['outcome'] = sub['outcome'].apply(lambda x: 1 if x=='Yes' else 0)"
   ]
  },
  {
   "cell_type": "code",
   "execution_count": 12,
   "id": "ea79568c",
   "metadata": {},
   "outputs": [],
   "source": [
    "sub = sub.drop(['rainy_weekday','rainy_weekend', 'dry_weekday', 'dry_weekend'], axis = 1)\n",
    "sub = sub.drop(['subscription_no_treat', 'subscriprion_treat', 'subscribed', 'Q29'], axis = 1)"
   ]
  },
  {
   "cell_type": "code",
   "execution_count": 13,
   "id": "92cd83a8",
   "metadata": {},
   "outputs": [],
   "source": [
    "sub.to_csv('survey_sub.csv', index=False)"
   ]
  },
  {
   "cell_type": "markdown",
   "id": "16a092be",
   "metadata": {},
   "source": [
    "#### Price theory"
   ]
  },
  {
   "cell_type": "code",
   "execution_count": 14,
   "id": "5b40a80d",
   "metadata": {},
   "outputs": [],
   "source": [
    "price = df[df['subscribed'].isna()].copy()\n",
    "price = price.drop(['subscription_no_treat', 'subscriprion_treat', 'Q29', 'subscribed'], axis =1)\n",
    "cols = ['rainy_weekday', 'rainy_weekend', 'dry_weekday', 'dry_weekend']\n",
    "price['treatment'] = price[cols].apply(lambda row: row.first_valid_index(), axis=1)\n",
    "price = price.dropna(subset=['treatment'])\n",
    "price['treatment_rain'] = price['treatment'].apply(lambda x: 1 if 'rainy' in x else 0)\n",
    "price['treatment_weekday'] = price['treatment'].apply(lambda x: 1 if 'weekday' in x else 0)"
   ]
  },
  {
   "cell_type": "code",
   "execution_count": 15,
   "id": "40041239",
   "metadata": {},
   "outputs": [],
   "source": [
    "price['outcome'] = (price['rainy_weekday'].fillna('') + ' ' \n",
    "                    + price['rainy_weekend'].fillna('') + ' '\n",
    "                    + price['dry_weekday'].fillna('') + ' '\n",
    "                    + price['dry_weekend'].fillna('')\n",
    "                   )\n",
    "price['outcome'] = price['outcome'].str.strip()\n",
    "#price = price.drop(['rainy_weekday', 'rainy_weekend', 'dry_weekday', 'dry_weekend'], axis = 1)"
   ]
  },
  {
   "cell_type": "code",
   "execution_count": 16,
   "id": "0933fc09",
   "metadata": {},
   "outputs": [],
   "source": [
    "price.to_csv('survey_price.csv', index=False)"
   ]
  },
  {
   "cell_type": "markdown",
   "id": "a72dacf2",
   "metadata": {},
   "source": [
    "## Data analysis"
   ]
  },
  {
   "cell_type": "code",
   "execution_count": 17,
   "id": "b61001ce",
   "metadata": {
    "tags": []
   },
   "outputs": [],
   "source": [
    "sub = pd.read_csv('survey_sub.csv')\n",
    "price = pd.read_csv('survey_price.csv')\n",
    "subscribed = pd.read_csv('survey_subscribed.csv')"
   ]
  },
  {
   "cell_type": "code",
   "execution_count": 18,
   "id": "89369e3e",
   "metadata": {
    "tags": []
   },
   "outputs": [],
   "source": [
    "tot = pd.concat([sub, price])"
   ]
  },
  {
   "cell_type": "code",
   "execution_count": 20,
   "id": "1fdcdadc",
   "metadata": {},
   "outputs": [
    {
     "data": {
      "text/plain": [
       "177"
      ]
     },
     "execution_count": 20,
     "metadata": {},
     "output_type": "execute_result"
    }
   ],
   "source": [
    "len(tot)+len(subscribed)"
   ]
  },
  {
   "cell_type": "code",
   "execution_count": 19,
   "id": "80dfdefe",
   "metadata": {
    "tags": []
   },
   "outputs": [
    {
     "name": "stdout",
     "output_type": "stream",
     "text": [
      "Test for likert scale 'I take the car more often when it rains' different from 2.5'\n",
      "\n",
      "Mean: 3.429411764705882\n",
      "Test Value: 2.5\n",
      "P-value: 4.13205917204685e-17\n",
      "\n",
      "Median: 4.0\n"
     ]
    }
   ],
   "source": [
    "mean_value = 2.5  \n",
    "t_stat, p_value = stats.ttest_1samp(tot['likert_car_when_rain'], mean_value)\n",
    "print(\"Test for likert scale 'I take the car more often when it rains' different from 2.5'\\n\")\n",
    "print(f\"Mean: {tot['likert_car_when_rain'].mean()}\")\n",
    "print(f\"Test Value: {mean_value}\")\n",
    "print(f\"P-value: {p_value}\")\n",
    "\n",
    "print(f\"\\nMedian: {tot['likert_car_when_rain'].median()}\")"
   ]
  },
  {
   "cell_type": "code",
   "execution_count": 20,
   "id": "c83cb5dc",
   "metadata": {
    "tags": []
   },
   "outputs": [
    {
     "name": "stdout",
     "output_type": "stream",
     "text": [
      "Test for likert scale 'I prefer covered parking lot' different from 2.5'\n",
      "\n",
      "Mean value: 2.7411764705882353\n",
      "Test Value: 2.5\n",
      "P-value: 0.010358789340639286\n",
      "\n",
      "Median: 3.0\n"
     ]
    }
   ],
   "source": [
    "mean_value = 2.5  \n",
    "t_stat, p_value = stats.ttest_1samp(tot['likert_covered_parking'], mean_value)\n",
    "print(\"Test for likert scale 'I prefer covered parking lot' different from 2.5'\\n\")\n",
    "print(f\"Mean value: {tot['likert_covered_parking'].mean()}\")\n",
    "print(f\"Test Value: {mean_value}\")\n",
    "print(f\"P-value: {p_value}\")\n",
    "\n",
    "print(f\"\\nMedian: {tot['likert_covered_parking'].median()}\")"
   ]
  },
  {
   "cell_type": "code",
   "execution_count": 21,
   "id": "db80aad4",
   "metadata": {
    "tags": []
   },
   "outputs": [
    {
     "name": "stdout",
     "output_type": "stream",
     "text": [
      "Test for likert scale 'I prefer covered parking lot when it rains' different from 2.5'\n",
      "\n",
      "Mean value: 3.411764705882353\n",
      "Test Value: 2.5\n",
      "P-value: 4.184890023346734e-17\n",
      "\n",
      "Median: 4.0\n"
     ]
    }
   ],
   "source": [
    "mean_value = 2.5  \n",
    "t_stat, p_value = stats.ttest_1samp(tot['likert_covered_parking_rain'], mean_value)\n",
    "print(\"Test for likert scale 'I prefer covered parking lot when it rains' different from 2.5'\\n\")\n",
    "print(f\"Mean value: {tot['likert_covered_parking_rain'].mean()}\")\n",
    "print(f\"Test Value: {mean_value}\")\n",
    "print(f\"P-value: {p_value}\")\n",
    "\n",
    "print(f\"\\nMedian: {tot['likert_covered_parking_rain'].median()}\")"
   ]
  },
  {
   "cell_type": "code",
   "execution_count": 22,
   "id": "23bc2736",
   "metadata": {
    "tags": []
   },
   "outputs": [
    {
     "data": {
      "image/png": "[encoded data removed]",
      "text/plain": [
       "<Figure size 600x500 with 1 Axes>"
      ]
     },
     "metadata": {},
     "output_type": "display_data"
    }
   ],
   "source": [
    "plt.figure(figsize=(6, 5))\n",
    "plt.hist(np.round(tot['price_proximity']), bins=5, color='skyblue', edgecolor='black') \n",
    "\n",
    "plt.xticks(np.arange(1,6), ['Price', '', '', '', 'Proximity'])\n",
    "plt.ylabel('Frequency')\n",
    "plt.title('Preference for price vs proximity')\n",
    "\n",
    "plt.show()"
   ]
  },
  {
   "cell_type": "code",
   "execution_count": 23,
   "id": "5410e963-1505-4965-8f70-54bf4e703138",
   "metadata": {
    "tags": []
   },
   "outputs": [
    {
     "data": {
      "text/plain": [
       "price_proximity\n",
       "proximity    0.658824\n",
       "price        0.341176\n",
       "Name: count, dtype: float64"
      ]
     },
     "execution_count": 23,
     "metadata": {},
     "output_type": "execute_result"
    }
   ],
   "source": [
    "tot['price_proximity'].apply(lambda x: 'price' if x<2.5 else 'proximity').value_counts()/(len(tot))"
   ]
  },
  {
   "cell_type": "markdown",
   "id": "b9bbd5bd",
   "metadata": {},
   "source": [
    "## First Theory - parking subscription"
   ]
  },
  {
   "cell_type": "markdown",
   "id": "0ca88a0f",
   "metadata": {},
   "source": [
    "### Randomization checks"
   ]
  },
  {
   "cell_type": "markdown",
   "id": "795cf374",
   "metadata": {},
   "source": [
    "First we look if the two groups were correctly randomized. Qualtrics should have taken care of this but we still look at the two covariaets age and occupation."
   ]
  },
  {
   "cell_type": "code",
   "execution_count": 24,
   "id": "0d84b802-4829-478b-beb1-a7ab7c9eae87",
   "metadata": {
    "tags": []
   },
   "outputs": [],
   "source": [
    "tab = pd.DataFrame(['Chi-sq statistic', 'p_value'])\n",
    "tab.columns = ['stat']\n",
    "tab.index = tab['stat']\n",
    "untreated = sub[sub['treatment']==0]\n",
    "treated =sub[sub['treatment']==1]"
   ]
  },
  {
   "cell_type": "code",
   "execution_count": 25,
   "id": "12a6ec8a",
   "metadata": {
    "tags": []
   },
   "outputs": [
    {
     "name": "stdout",
     "output_type": "stream",
     "text": [
      "Contingency Table:\n",
      "+-----------+--------+------+-------+\n",
      "| treatment | Female | Male | Total |\n",
      "+-----------+--------+------+-------+\n",
      "|     0     |   20   |  23  |  43   |\n",
      "|     1     |   23   |  20  |  43   |\n",
      "|   Total   |   43   |  43  |  86   |\n",
      "+-----------+--------+------+-------+\n",
      "Chi-squared test:\n",
      "  Chi-squared statistic: 0.1860\n",
      "  Degrees of freedom: 1\n",
      "  P-value: 0.6662\n",
      "\n",
      "Ks statistic: 0.06976744186046512,\n",
      "Ks pvalue: 0.9999670303234552\n"
     ]
    }
   ],
   "source": [
    "contingency_table = pd.crosstab(sub['treatment'], sub['gender'])\n",
    "chi2_stat, p_val, dof, expected = chi2_contingency(contingency_table)\n",
    "\n",
    "contingency_table['Total'] = contingency_table.sum(axis=1)\n",
    "contingency_table.loc['Total'] = contingency_table.sum(axis=0)\n",
    "table_str = tabulate(contingency_table, headers='keys', tablefmt='pretty')\n",
    "tab['gender'] = [round(chi2_stat, 3), round(p_val, 3)]\n",
    "\n",
    "print(\"Contingency Table:\")\n",
    "print(table_str)\n",
    "\n",
    "print(\"Chi-squared test:\")\n",
    "print(f\"  Chi-squared statistic: {chi2_stat:.4f}\")\n",
    "print(f\"  Degrees of freedom: {dof}\")\n",
    "print(f\"  P-value: {p_val:.4f}\")\n",
    "\n",
    "statks, pvalks = ks_2samp(treated['gender'], untreated['gender'])\n",
    "print(f\"\\nKs statistic: {statks},\\nKs pvalue: {pvalks}\")"
   ]
  },
  {
   "cell_type": "code",
   "execution_count": 26,
   "id": "c4fd01f7",
   "metadata": {
    "tags": []
   },
   "outputs": [
    {
     "name": "stdout",
     "output_type": "stream",
     "text": [
      "Contingency Table:\n",
      "+-----------+-------+-------+-------+-----+-------+\n",
      "| treatment | 18-23 | 24-35 | 36-55 | >55 | Total |\n",
      "+-----------+-------+-------+-------+-----+-------+\n",
      "|     0     |  29   |   2   |   9   |  3  |  43   |\n",
      "|     1     |  29   |   7   |   5   |  2  |  43   |\n",
      "|   Total   |  58   |   9   |  14   |  5  |  86   |\n",
      "+-----------+-------+-------+-------+-----+-------+\n",
      "Chi-squared test:\n",
      "  Chi-squared statistic: 4.1206\n",
      "  Degrees of freedom: 3\n",
      "  P-value: 0.2487\n",
      "\n",
      "Ks statistic: 0.11627906976744186,\n",
      "Ks pvalue: 0.9377161273776224\n"
     ]
    }
   ],
   "source": [
    "contingency_table = pd.crosstab(sub['treatment'], sub['age'])\n",
    "chi2_stat, p_val, dof, expected = chi2_contingency(contingency_table)\n",
    "\n",
    "contingency_table['Total'] = contingency_table.sum(axis=1)\n",
    "contingency_table.loc['Total'] = contingency_table.sum(axis=0)\n",
    "table_str = tabulate(contingency_table, headers='keys', tablefmt='pretty')\n",
    "tab['age'] = [round(chi2_stat, 3), round(p_val, 3)]\n",
    "\n",
    "print(\"Contingency Table:\")\n",
    "print(table_str)\n",
    "\n",
    "print(\"Chi-squared test:\")\n",
    "print(f\"  Chi-squared statistic: {chi2_stat:.4f}\")\n",
    "print(f\"  Degrees of freedom: {dof}\")\n",
    "print(f\"  P-value: {p_val:.4f}\")\n",
    "\n",
    "statks, pvalks = ks_2samp(treated['age'], untreated['age'])\n",
    "print(f\"\\nKs statistic: {statks},\\nKs pvalue: {pvalks}\")"
   ]
  },
  {
   "cell_type": "code",
   "execution_count": 27,
   "id": "b350f075",
   "metadata": {
    "tags": []
   },
   "outputs": [
    {
     "name": "stdout",
     "output_type": "stream",
     "text": [
      "Contingency Table:\n",
      "+-----------+---------+---------+-------+-------+\n",
      "| treatment | Student | Working | other | Total |\n",
      "+-----------+---------+---------+-------+-------+\n",
      "|     0     |   29    |   12    |   2   |  43   |\n",
      "|     1     |   28    |   11    |   4   |  43   |\n",
      "|   Total   |   57    |   23    |   6   |  86   |\n",
      "+-----------+---------+---------+-------+-------+\n",
      "Chi-squared test:\n",
      "  Chi-squared statistic: 0.7277\n",
      "  Degrees of freedom: 2\n",
      "  P-value: 0.6950\n",
      "\n",
      "Ks statistic: 0.046511627906976744,\n",
      "Ks pvalue: 0.9999999999986748\n"
     ]
    }
   ],
   "source": [
    "contingency_table = pd.crosstab(sub['treatment'], sub['occupation'])\n",
    "chi2_stat, p_val, dof, expected = chi2_contingency(contingency_table)\n",
    "\n",
    "contingency_table['Total'] = contingency_table.sum(axis=1)\n",
    "contingency_table.loc['Total'] = contingency_table.sum(axis=0)\n",
    "table_str = tabulate(contingency_table, headers='keys', tablefmt='pretty')\n",
    "tab['occupation'] = [round(chi2_stat, 3), round(p_val, 3)]\n",
    "\n",
    "print(\"Contingency Table:\")\n",
    "print(table_str)\n",
    "\n",
    "print(\"Chi-squared test:\")\n",
    "print(f\"  Chi-squared statistic: {chi2_stat:.4f}\")\n",
    "print(f\"  Degrees of freedom: {dof}\")\n",
    "print(f\"  P-value: {p_val:.4f}\")\n",
    "\n",
    "statks, pvalks = ks_2samp(treated['occupation'], untreated['occupation'])\n",
    "print(f\"\\nKs statistic: {statks},\\nKs pvalue: {pvalks}\")"
   ]
  },
  {
   "cell_type": "code",
   "execution_count": 28,
   "id": "078aec80-871c-4308-86de-e0eb71e03d5b",
   "metadata": {
    "tags": []
   },
   "outputs": [
    {
     "name": "stdout",
     "output_type": "stream",
     "text": [
      "+------------------+----------+-------+--------------+\n",
      "| stat             |   gender |   age |   occupation |\n",
      "+==================+==========+=======+==============+\n",
      "| Chi-sq statistic |    0.186 | 4.121 |        0.728 |\n",
      "+------------------+----------+-------+--------------+\n",
      "| p_value          |    0.666 | 0.249 |        0.695 |\n",
      "+------------------+----------+-------+--------------+\n"
     ]
    }
   ],
   "source": [
    "print(tabulate(tab.drop('stat', axis=1), headers='keys', tablefmt='grid'))"
   ]
  },
  {
   "cell_type": "code",
   "execution_count": 29,
   "id": "b1485878-1268-401e-96cb-37e0c4e6a219",
   "metadata": {
    "tags": []
   },
   "outputs": [
    {
     "data": {
      "text/plain": [
       "<Axes: xlabel='treatment', ylabel='count'>"
      ]
     },
     "execution_count": 29,
     "metadata": {},
     "output_type": "execute_result"
    },
    {
     "data": {
      "image/png": "[encoded data removed]",
      "text/plain": [
       "<Figure size 1500x600 with 3 Axes>"
      ]
     },
     "metadata": {},
     "output_type": "display_data"
    }
   ],
   "source": [
    "fig, axes = plt.subplots(nrows=1, ncols=3, figsize=(15, 6))\n",
    "sns.countplot(data=sub[['gender', 'treatment']], x='treatment', hue='gender', ax = axes[0], palette='Set2')\n",
    "sns.countplot(data=sub[['age', 'treatment']], x='treatment', hue='age', ax = axes[1], palette='Set2')\n",
    "sns.countplot(data=sub[['occupation', 'treatment']], x='treatment', hue='occupation', ax = axes[2], palette='Set2')"
   ]
  },
  {
   "cell_type": "markdown",
   "id": "4d5d8c08-8cb7-4b6c-a94c-54aafda08f50",
   "metadata": {},
   "source": [
    "## Regression"
   ]
  },
  {
   "cell_type": "markdown",
   "id": "1bcab8d8",
   "metadata": {},
   "source": [
    "The treatment does not seem to be significant, no effect"
   ]
  },
  {
   "cell_type": "code",
   "execution_count": 30,
   "id": "3796dcbf",
   "metadata": {
    "tags": []
   },
   "outputs": [
    {
     "name": "stdout",
     "output_type": "stream",
     "text": [
      "Optimization terminated successfully.\n",
      "         Current function value: 0.515872\n",
      "         Iterations 6\n",
      "                           Logit Regression Results                           \n",
      "==============================================================================\n",
      "Dep. Variable:                outcome   No. Observations:                   86\n",
      "Model:                          Logit   Df Residuals:                       78\n",
      "Method:                           MLE   Df Model:                            7\n",
      "Date:                Wed, 29 Nov 2023   Pseudo R-squ.:                 0.04882\n",
      "Time:                        22:10:40   Log-Likelihood:                -44.365\n",
      "converged:                       True   LL-Null:                       -46.642\n",
      "Covariance Type:                  HC3   LLR p-value:                    0.7142\n",
      "=================================================================================\n",
      "                    coef    std err          z      P>|z|      [0.025      0.975]\n",
      "---------------------------------------------------------------------------------\n",
      "treatment         0.6756      0.539      1.252      0.210      -0.382       1.733\n",
      "intercept        -3.6370      1.348     -2.699      0.007      -6.278      -0.996\n",
      "gender_bin        0.1872      0.545      0.343      0.731      -0.881       1.256\n",
      "student_dummy     1.8854      1.267      1.488      0.137      -0.598       4.369\n",
      "working_dummy     0.3394      1.278      0.266      0.791      -2.165       2.844\n",
      "24-35_dummy       1.3093      1.152      1.137      0.256      -0.948       3.567\n",
      "36-55_dummy       1.9133      0.989      1.935      0.053      -0.024       3.851\n",
      ">55_dummy         2.5588      1.399      1.830      0.067      -0.182       5.300\n",
      "=================================================================================\n"
     ]
    }
   ],
   "source": [
    "sub['intercept'] = np.ones(len(sub))\n",
    "temp = sub[['treatment', 'intercept', 'gender_bin', 'student_dummy', 'working_dummy',\n",
    "       '24-35_dummy', '36-55_dummy', '>55_dummy']]\n",
    "           \n",
    "logit_model = sm.Logit(sub['outcome'],temp).fit(cov_type='HC3')\n",
    "print(logit_model.summary())"
   ]
  },
  {
   "cell_type": "markdown",
   "id": "870ef774-b207-4bfd-a2c2-1414ef2a4ba5",
   "metadata": {},
   "source": [
    "#### Already subbed"
   ]
  },
  {
   "cell_type": "code",
   "execution_count": 40,
   "id": "f65f9292-60bd-41d4-bc19-0c2c8a93ff41",
   "metadata": {
    "tags": []
   },
   "outputs": [
    {
     "data": {
      "image/png": "[encoded data removed]",
      "text/plain": [
       "<Figure size 400x400 with 1 Axes>"
      ]
     },
     "metadata": {},
     "output_type": "display_data"
    }
   ],
   "source": [
    "category_counts = subscribed['Q29'].value_counts()\n",
    "\n",
    "labels = category_counts.index.tolist()\n",
    "values = category_counts.values.tolist()\n",
    "\n",
    "plt.figure(figsize=(4, 4))\n",
    "plt.pie(values, labels=labels, autopct='%1.1f%%', startangle=90, explode=(0.03, 0), colors=['#ff9900', '#3385ff'])\n",
    "plt.axis('equal') \n",
    "plt.title('Would you upgrade your subscription ?')\n",
    "plt.show()"
   ]
  },
  {
   "cell_type": "markdown",
   "id": "74cf4fc4",
   "metadata": {},
   "source": [
    "### Second theory - prices"
   ]
  },
  {
   "cell_type": "markdown",
   "id": "8a224130",
   "metadata": {},
   "source": [
    "#### Checks"
   ]
  },
  {
   "cell_type": "code",
   "execution_count": 32,
   "id": "55634f27-c999-496f-9d95-0fa0507f7956",
   "metadata": {
    "tags": []
   },
   "outputs": [],
   "source": [
    "tab = pd.DataFrame(['Chi-sq statistic', 'p_value'])\n",
    "tab.columns = ['stat']\n",
    "tab.index = tab['stat']"
   ]
  },
  {
   "cell_type": "code",
   "execution_count": 33,
   "id": "fd06f61c",
   "metadata": {
    "tags": []
   },
   "outputs": [
    {
     "name": "stdout",
     "output_type": "stream",
     "text": [
      "Contingency Table:\n",
      "+---------------+--------+------+------------+-------+\n",
      "|   treatment   | Female | Male | Non-binary | Total |\n",
      "+---------------+--------+------+------------+-------+\n",
      "|  dry_weekday  |   8    |  11  |     1      |  20   |\n",
      "|  dry_weekend  |   12   |  10  |     0      |  22   |\n",
      "| rainy_weekday |   9    |  9   |     1      |  19   |\n",
      "| rainy_weekend |   12   |  11  |     0      |  23   |\n",
      "|     Total     |   41   |  41  |     2      |  84   |\n",
      "+---------------+--------+------+------------+-------+\n",
      "Chi-squared test:\n",
      "  Chi-squared statistic: 3.0586\n",
      "  Degrees of freedom: 6\n",
      "  P-value: 0.8015\n"
     ]
    }
   ],
   "source": [
    "contingency_table = pd.crosstab(price['treatment'], price['gender'])\n",
    "chi2_stat, p_val, dof, expected = chi2_contingency(contingency_table)\n",
    "\n",
    "contingency_table['Total'] = contingency_table.sum(axis=1)\n",
    "contingency_table.loc['Total'] = contingency_table.sum(axis=0)\n",
    "table_str = tabulate(contingency_table, headers='keys', tablefmt='pretty')\n",
    "tab['gender'] = [round(chi2_stat, 3), round(p_val, 3)]\n",
    "\n",
    "print(\"Contingency Table:\")\n",
    "print(table_str)\n",
    "\n",
    "print(\"Chi-squared test:\")\n",
    "print(f\"  Chi-squared statistic: {chi2_stat:.4f}\")\n",
    "print(f\"  Degrees of freedom: {dof}\")\n",
    "print(f\"  P-value: {p_val:.4f}\")"
   ]
  },
  {
   "cell_type": "code",
   "execution_count": 34,
   "id": "1d0882ef",
   "metadata": {
    "tags": []
   },
   "outputs": [
    {
     "name": "stdout",
     "output_type": "stream",
     "text": [
      "Contingency Table:\n",
      "+---------------+-------+-------+-------+-----+-------+\n",
      "|   treatment   | 18-23 | 24-35 | 36-55 | >55 | Total |\n",
      "+---------------+-------+-------+-------+-----+-------+\n",
      "|  dry_weekday  |  12   |   2   |   3   |  3  |  20   |\n",
      "|  dry_weekend  |  18   |   0   |   3   |  1  |  22   |\n",
      "| rainy_weekday |  14   |   2   |   3   |  0  |  19   |\n",
      "| rainy_weekend |  19   |   2   |   2   |  0  |  23   |\n",
      "|     Total     |  63   |   6   |  11   |  4  |  84   |\n",
      "+---------------+-------+-------+-------+-----+-------+\n",
      "Chi-squared test:\n",
      "  Chi-squared statistic: 10.0106\n",
      "  Degrees of freedom: 9\n",
      "  P-value: 0.3496\n"
     ]
    }
   ],
   "source": [
    "contingency_table = pd.crosstab(price['treatment'], price['age'])\n",
    "chi2_stat, p_val, dof, expected = chi2_contingency(contingency_table)\n",
    "\n",
    "contingency_table['Total'] = contingency_table.sum(axis=1)\n",
    "contingency_table.loc['Total'] = contingency_table.sum(axis=0)\n",
    "table_str = tabulate(contingency_table, headers='keys', tablefmt='pretty')\n",
    "tab['age'] = [round(chi2_stat, 3), round(p_val, 3)]\n",
    "\n",
    "print(\"Contingency Table:\")\n",
    "print(table_str)\n",
    "\n",
    "print(\"Chi-squared test:\")\n",
    "print(f\"  Chi-squared statistic: {chi2_stat:.4f}\")\n",
    "print(f\"  Degrees of freedom: {dof}\")\n",
    "print(f\"  P-value: {p_val:.4f}\")"
   ]
  },
  {
   "cell_type": "code",
   "execution_count": 35,
   "id": "f222b7b5",
   "metadata": {
    "tags": []
   },
   "outputs": [
    {
     "name": "stdout",
     "output_type": "stream",
     "text": [
      "Contingency Table:\n",
      "+---------------+---------+---------+-------+-------+\n",
      "|   treatment   | Student | Working | other | Total |\n",
      "+---------------+---------+---------+-------+-------+\n",
      "|  dry_weekday  |   12    |    6    |   2   |  20   |\n",
      "|  dry_weekend  |   16    |    5    |   1   |  22   |\n",
      "| rainy_weekday |   14    |    5    |   0   |  19   |\n",
      "| rainy_weekend |   15    |    4    |   4   |  23   |\n",
      "|     Total     |   57    |   20    |   7   |  84   |\n",
      "+---------------+---------+---------+-------+-------+\n",
      "Chi-squared test:\n",
      "  Chi-squared statistic: 5.4516\n",
      "  Degrees of freedom: 6\n",
      "  P-value: 0.4873\n"
     ]
    }
   ],
   "source": [
    "contingency_table = pd.crosstab(price['treatment'], price['occupation'])\n",
    "chi2_stat, p_val, dof, expected = chi2_contingency(contingency_table)\n",
    "\n",
    "contingency_table['Total'] = contingency_table.sum(axis=1)\n",
    "contingency_table.loc['Total'] = contingency_table.sum(axis=0)\n",
    "table_str = tabulate(contingency_table, headers='keys', tablefmt='pretty')\n",
    "tab['occupation'] = [round(chi2_stat, 3), round(p_val, 3)]\n",
    "\n",
    "print(\"Contingency Table:\")\n",
    "print(table_str)\n",
    "\n",
    "print(\"Chi-squared test:\")\n",
    "print(f\"  Chi-squared statistic: {chi2_stat:.4f}\")\n",
    "print(f\"  Degrees of freedom: {dof}\")\n",
    "print(f\"  P-value: {p_val:.4f}\")"
   ]
  },
  {
   "cell_type": "code",
   "execution_count": 36,
   "id": "23ee885f-30e8-4426-8aa4-6bf513883459",
   "metadata": {
    "tags": []
   },
   "outputs": [
    {
     "name": "stdout",
     "output_type": "stream",
     "text": [
      "+------------------+----------+--------+--------------+\n",
      "| stat             |   gender |    age |   occupation |\n",
      "+==================+==========+========+==============+\n",
      "| Chi-sq statistic |    3.059 | 10.011 |        5.452 |\n",
      "+------------------+----------+--------+--------------+\n",
      "| p_value          |    0.801 |  0.35  |        0.487 |\n",
      "+------------------+----------+--------+--------------+\n"
     ]
    }
   ],
   "source": [
    "print(tabulate(tab.drop('stat', axis=1), headers='keys', tablefmt='grid'))"
   ]
  },
  {
   "cell_type": "code",
   "execution_count": 37,
   "id": "3d694fee-b1e3-4692-aa5f-e337e368e5f3",
   "metadata": {
    "tags": []
   },
   "outputs": [
    {
     "data": {
      "text/plain": [
       "<Axes: xlabel='treatment', ylabel='count'>"
      ]
     },
     "execution_count": 37,
     "metadata": {},
     "output_type": "execute_result"
    },
    {
     "data": {
      "image/png": "[encoded data removed]",
      "text/plain": [
       "<Figure size 1500x600 with 3 Axes>"
      ]
     },
     "metadata": {},
     "output_type": "display_data"
    }
   ],
   "source": [
    "fig, axes = plt.subplots(nrows=1, ncols=3, figsize=(15, 6))\n",
    "sns.countplot(data=price[['gender', 'treatment']], x='treatment', hue='gender', ax = axes[0], palette='Set2')\n",
    "sns.countplot(data=price[['age', 'treatment']], x='treatment', hue='age', ax = axes[1], palette='Set2')\n",
    "sns.countplot(data=price[['occupation', 'treatment']], x='treatment', hue='occupation', ax = axes[2], palette='Set2')"
   ]
  },
  {
   "cell_type": "markdown",
   "id": "90873e0f-7372-48cf-941a-0ec31229d968",
   "metadata": {},
   "source": [
    "### Regression"
   ]
  },
  {
   "cell_type": "markdown",
   "id": "b3d3187d",
   "metadata": {},
   "source": [
    "Only the treatment rain seems to be significant"
   ]
  },
  {
   "cell_type": "code",
   "execution_count": 38,
   "id": "6528d5ee",
   "metadata": {
    "tags": []
   },
   "outputs": [
    {
     "name": "stdout",
     "output_type": "stream",
     "text": [
      "outcome ~  gender + occupation + age + treatment_rain + treatment_weekday + interaction_term\n",
      "                            OLS Regression Results                            \n",
      "==============================================================================\n",
      "Dep. Variable:                outcome   R-squared:                       0.199\n",
      "Model:                            OLS   Adj. R-squared:                  0.090\n",
      "Method:                 Least Squares   F-statistic:                     2.382\n",
      "Date:                Wed, 29 Nov 2023   Prob (F-statistic):             0.0167\n",
      "Time:                        22:10:45   Log-Likelihood:                -120.51\n",
      "No. Observations:                  84   AIC:                             263.0\n",
      "Df Residuals:                      73   BIC:                             289.8\n",
      "Df Model:                          10                                         \n",
      "Covariance Type:                  HC3                                         \n",
      "=========================================================================================\n",
      "                            coef    std err          z      P>|z|      [0.025      0.975]\n",
      "-----------------------------------------------------------------------------------------\n",
      "Intercept                 1.3109      0.247      5.300      0.000       0.826       1.796\n",
      "gender[T.Male]            0.4632      0.255      1.814      0.070      -0.037       0.964\n",
      "gender[T.Non-binary]      0.0343      0.444      0.077      0.938      -0.836       0.905\n",
      "occupation[T.Working]     0.1888      0.682      0.277      0.782      -1.147       1.525\n",
      "occupation[T.other]      -0.2282      0.377     -0.605      0.545      -0.968       0.511\n",
      "age[T.24-35]              0.4916      0.582      0.844      0.398      -0.649       1.633\n",
      "age[T.36-55]              0.0237      0.813      0.029      0.977      -1.569       1.616\n",
      "age[T.>55]                0.5703      1.412      0.404      0.686      -2.196       3.337\n",
      "treatment_rain            0.6857      0.336      2.039      0.041       0.026       1.345\n",
      "treatment_weekday        -0.0900      0.369     -0.244      0.807      -0.814       0.634\n",
      "interaction_term          0.3539      0.527      0.671      0.502      -0.680       1.388\n",
      "==============================================================================\n",
      "Omnibus:                        4.434   Durbin-Watson:                   2.219\n",
      "Prob(Omnibus):                  0.109   Jarque-Bera (JB):                4.319\n",
      "Skew:                           0.287   Prob(JB):                        0.115\n",
      "Kurtosis:                       3.951   Cond. No.                         14.2\n",
      "==============================================================================\n",
      "\n",
      "Notes:\n",
      "[1] Standard Errors are heteroscedasticity robust (HC3) \n",
      "\n",
      "\n",
      "log_outcome ~  gender + occupation + age + treatment_rain + treatment_weekday + interaction_term\n",
      "                            OLS Regression Results                            \n",
      "==============================================================================\n",
      "Dep. Variable:            log_outcome   R-squared:                       0.158\n",
      "Model:                            OLS   Adj. R-squared:                  0.043\n",
      "Method:                 Least Squares   F-statistic:                     1.986\n",
      "Date:                Wed, 29 Nov 2023   Prob (F-statistic):             0.0471\n",
      "Time:                        22:10:45   Log-Likelihood:                -36.360\n",
      "No. Observations:                  84   AIC:                             94.72\n",
      "Df Residuals:                      73   BIC:                             121.5\n",
      "Df Model:                          10                                         \n",
      "Covariance Type:                  HC3                                         \n",
      "=========================================================================================\n",
      "                            coef    std err          z      P>|z|      [0.025      0.975]\n",
      "-----------------------------------------------------------------------------------------\n",
      "Intercept                 0.8112      0.091      8.921      0.000       0.633       0.989\n",
      "gender[T.Male]            0.1331      0.096      1.383      0.167      -0.056       0.322\n",
      "gender[T.Non-binary]      0.0229      0.206      0.112      0.911      -0.380       0.426\n",
      "occupation[T.Working]     0.0477      0.178      0.269      0.788      -0.300       0.396\n",
      "occupation[T.other]      -0.0860      0.189     -0.456      0.648      -0.456       0.284\n",
      "age[T.24-35]              0.1561      0.178      0.877      0.380      -0.193       0.505\n",
      "age[T.36-55]              0.0041      0.256      0.016      0.987      -0.497       0.505\n",
      "age[T.>55]                0.0591      0.447      0.132      0.895      -0.818       0.936\n",
      "treatment_rain            0.2340      0.130      1.794      0.073      -0.022       0.490\n",
      "treatment_weekday        -0.0156      0.135     -0.116      0.908      -0.281       0.249\n",
      "interaction_term          0.0891      0.190      0.470      0.638      -0.283       0.461\n",
      "==============================================================================\n",
      "Omnibus:                       10.230   Durbin-Watson:                   2.211\n",
      "Prob(Omnibus):                  0.006   Jarque-Bera (JB):               10.230\n",
      "Skew:                          -0.751   Prob(JB):                      0.00601\n",
      "Kurtosis:                       3.815   Cond. No.                         14.2\n",
      "==============================================================================\n",
      "\n",
      "Notes:\n",
      "[1] Standard Errors are heteroscedasticity robust (HC3)\n"
     ]
    }
   ],
   "source": [
    "temp = price[['treatment_rain', 'treatment_weekday', 'outcome', 'gender', 'occupation', 'age']].copy()\n",
    "temp['interaction_term'] = temp['treatment_rain'] * temp['treatment_weekday']\n",
    "temp['log_outcome'] = np.log(temp['outcome']+1)\n",
    "\n",
    "model_1= ols('outcome ~  gender + occupation + age + treatment_rain + treatment_weekday + interaction_term', data=temp).fit(cov_type='HC3')\n",
    "model_2 = ols('log_outcome ~  gender + occupation + age + treatment_rain + treatment_weekday + interaction_term', data=temp).fit(cov_type='HC3')\n",
    "\n",
    "print('outcome ~  gender + occupation + age + treatment_rain + treatment_weekday + interaction_term')\n",
    "print(model_1.summary(), '\\n')\n",
    "\n",
    "print('\\nlog_outcome ~  gender + occupation + age + treatment_rain + treatment_weekday + interaction_term')\n",
    "print(model_2.summary())"
   ]
  },
  {
   "cell_type": "code",
   "execution_count": 39,
   "id": "15291cac",
   "metadata": {
    "tags": []
   },
   "outputs": [
    {
     "name": "stdout",
     "output_type": "stream",
     "text": [
      "outcome ~  gender + occupation + age + treatment_rain + treatment_weekday\n",
      "                            OLS Regression Results                            \n",
      "==============================================================================\n",
      "Dep. Variable:                outcome   R-squared:                       0.194\n",
      "Model:                            OLS   Adj. R-squared:                  0.096\n",
      "Method:                 Least Squares   F-statistic:                     2.662\n",
      "Date:                Wed, 29 Nov 2023   Prob (F-statistic):            0.00987\n",
      "Time:                        22:10:46   Log-Likelihood:                -120.80\n",
      "No. Observations:                  84   AIC:                             261.6\n",
      "Df Residuals:                      74   BIC:                             285.9\n",
      "Df Model:                           9                                         \n",
      "Covariance Type:                  HC3                                         \n",
      "=========================================================================================\n",
      "                            coef    std err          z      P>|z|      [0.025      0.975]\n",
      "-----------------------------------------------------------------------------------------\n",
      "Intercept                 1.2494      0.234      5.333      0.000       0.790       1.709\n",
      "gender[T.Male]            0.4400      0.241      1.825      0.068      -0.032       0.913\n",
      "gender[T.Non-binary]      0.0120      0.555      0.022      0.983      -1.075       1.099\n",
      "occupation[T.Working]     0.2320      0.683      0.340      0.734      -1.106       1.570\n",
      "occupation[T.other]      -0.2950      0.375     -0.787      0.431      -1.030       0.440\n",
      "age[T.24-35]              0.4419      0.579      0.763      0.445      -0.693       1.576\n",
      "age[T.36-55]             -0.0176      0.812     -0.022      0.983      -1.609       1.574\n",
      "age[T.>55]                0.4521      1.409      0.321      0.748      -2.309       3.214\n",
      "treatment_rain            0.8433      0.236      3.576      0.000       0.381       1.306\n",
      "treatment_weekday         0.0919      0.255      0.361      0.718      -0.408       0.592\n",
      "==============================================================================\n",
      "Omnibus:                        5.001   Durbin-Watson:                   2.215\n",
      "Prob(Omnibus):                  0.082   Jarque-Bera (JB):                5.032\n",
      "Skew:                           0.323   Prob(JB):                       0.0808\n",
      "Kurtosis:                       4.010   Cond. No.                         13.7\n",
      "==============================================================================\n",
      "\n",
      "Notes:\n",
      "[1] Standard Errors are heteroscedasticity robust (HC3) \n",
      "\n",
      "\n",
      "log_outcome ~  gender + occupation + age + treatment_rain + treatment_weekday\n",
      "                            OLS Regression Results                            \n",
      "==============================================================================\n",
      "Dep. Variable:            log_outcome   R-squared:                       0.155\n",
      "Model:                            OLS   Adj. R-squared:                  0.053\n",
      "Method:                 Least Squares   F-statistic:                     2.215\n",
      "Date:                Wed, 29 Nov 2023   Prob (F-statistic):             0.0302\n",
      "Time:                        22:10:46   Log-Likelihood:                -36.495\n",
      "No. Observations:                  84   AIC:                             92.99\n",
      "Df Residuals:                      74   BIC:                             117.3\n",
      "Df Model:                           9                                         \n",
      "Covariance Type:                  HC3                                         \n",
      "=========================================================================================\n",
      "                            coef    std err          z      P>|z|      [0.025      0.975]\n",
      "-----------------------------------------------------------------------------------------\n",
      "Intercept                 0.7957      0.086      9.242      0.000       0.627       0.964\n",
      "gender[T.Male]            0.1272      0.090      1.414      0.158      -0.049       0.304\n",
      "gender[T.Non-binary]      0.0173      0.231      0.075      0.940      -0.436       0.471\n",
      "occupation[T.Working]     0.0586      0.178      0.330      0.741      -0.289       0.407\n",
      "occupation[T.other]      -0.1028      0.188     -0.547      0.585      -0.472       0.266\n",
      "age[T.24-35]              0.1436      0.178      0.808      0.419      -0.205       0.492\n",
      "age[T.36-55]             -0.0063      0.256     -0.025      0.980      -0.509       0.496\n",
      "age[T.>55]                0.0293      0.451      0.065      0.948      -0.855       0.914\n",
      "treatment_rain            0.2737      0.089      3.062      0.002       0.098       0.449\n",
      "treatment_weekday         0.0302      0.090      0.334      0.738      -0.147       0.207\n",
      "==============================================================================\n",
      "Omnibus:                       10.216   Durbin-Watson:                   2.210\n",
      "Prob(Omnibus):                  0.006   Jarque-Bera (JB):               10.234\n",
      "Skew:                          -0.746   Prob(JB):                      0.00599\n",
      "Kurtosis:                       3.837   Cond. No.                         13.7\n",
      "==============================================================================\n",
      "\n",
      "Notes:\n",
      "[1] Standard Errors are heteroscedasticity robust (HC3)\n"
     ]
    }
   ],
   "source": [
    "model_3 = ols('outcome ~  gender + occupation + age + treatment_rain + treatment_weekday', data=temp).fit(cov_type='HC3')\n",
    "model_4 = ols('log_outcome ~  gender + occupation + age + treatment_rain + treatment_weekday', data=temp).fit(cov_type='HC3')\n",
    "\n",
    "print('outcome ~  gender + occupation + age + treatment_rain + treatment_weekday')\n",
    "print(model_3.summary(), '\\n')\n",
    "\n",
    "print('\\nlog_outcome ~  gender + occupation + age + treatment_rain + treatment_weekday')\n",
    "print(model_4.summary())"
   ]
  }
 ],
 "metadata": {
  "kernelspec": {
   "display_name": "Python 3 (ipykernel)",
   "language": "python",
   "name": "python3"
  },
  "language_info": {
   "codemirror_mode": {
    "name": "ipython",
    "version": 3
   },
   "file_extension": ".py",
   "mimetype": "text/x-python",
   "name": "python",
   "nbconvert_exporter": "python",
   "pygments_lexer": "ipython3",
   "version": "3.11.5"
  }
 },
 "nbformat": 4,
 "nbformat_minor": 5
}
